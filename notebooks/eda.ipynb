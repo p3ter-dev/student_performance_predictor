{
 "cells": [
  {
   "cell_type": "code",
   "execution_count": null,
   "id": "e23bd3c6",
   "metadata": {},
   "outputs": [
    {
     "name": "stdout",
     "output_type": "stream",
     "text": [
      "  school;sex;age;address;famsize;Pstatus;Medu;Fedu;Mjob;Fjob;reason;guardian;traveltime;studytime;failures;schoolsup;famsup;paid;activities;nursery;higher;internet;romantic;famrel;freetime;goout;Dalc;Walc;health;absences;G1;G2;G3\n",
      "0  GP;\"F\";18;\"U\";\"GT3\";\"A\";4;4;\"at_home\";\"teacher...                                                                                                                                                                                 \n",
      "1  GP;\"F\";17;\"U\";\"GT3\";\"T\";1;1;\"at_home\";\"other\";...                                                                                                                                                                                 \n",
      "2  GP;\"F\";15;\"U\";\"LE3\";\"T\";1;1;\"at_home\";\"other\";...                                                                                                                                                                                 \n",
      "3  GP;\"F\";15;\"U\";\"GT3\";\"T\";4;2;\"health\";\"services...                                                                                                                                                                                 \n",
      "4  GP;\"F\";16;\"U\";\"GT3\";\"T\";3;3;\"other\";\"other\";\"h...                                                                                                                                                                                 \n"
     ]
    }
   ],
   "source": [
    "import pandas as pd\n",
    "import os\n",
    "\n",
    "raw_data_folder = '/Users/peter/student_performance_predictor/data/raw'\n",
    "\n",
    "csv_files = [f for f in os.listdir(raw_data_folder) if f.endswith('.csv')]\n",
    "\n",
    "dfs = [pd.read_csv(os.path.join(raw_data_folder, f)) for f in csv_files]\n",
    "df = pd.concat(dfs, ignore_index=True)\n",
    "\n",
    "print(df.head())\n",
    "df = df.dropna()\n",
    "print(df['final_gpa'].describe())\n",
    "print(df[features].describe())\n",
    "features = ['study_hours', 'attendance_rate', 'current_gpa']\n",
    "target = 'final_gpa'\n",
    "\n",
    "X = df[features]\n",
    "y = df[target]\n"
   ]
  }
 ],
 "metadata": {
  "kernelspec": {
   "display_name": "Python 3",
   "language": "python",
   "name": "python3"
  },
  "language_info": {
   "codemirror_mode": {
    "name": "ipython",
    "version": 3
   },
   "file_extension": ".py",
   "mimetype": "text/x-python",
   "name": "python",
   "nbconvert_exporter": "python",
   "pygments_lexer": "ipython3",
   "version": "3.13.0"
  }
 },
 "nbformat": 4,
 "nbformat_minor": 5
}
